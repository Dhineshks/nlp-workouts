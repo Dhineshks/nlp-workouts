{
  "nbformat": 4,
  "nbformat_minor": 0,
  "metadata": {
    "colab": {
      "name": "visualize.ipynb",
      "provenance": [],
      "collapsed_sections": [],
      "mount_file_id": "1ZJHjLd6l4f7MaFDUABp0kps9-a5PhasQ",
      "authorship_tag": "ABX9TyMYKUeK7iTMHyGae1Q3L60p",
      "include_colab_link": true
    },
    "kernelspec": {
      "name": "python3",
      "display_name": "Python 3"
    },
    "language_info": {
      "name": "python"
    }
  },
  "cells": [
    {
      "cell_type": "markdown",
      "metadata": {
        "id": "view-in-github",
        "colab_type": "text"
      },
      "source": [
        "<a href=\"https://colab.research.google.com/github/Dhineshks/nlp-workouts/blob/master/Classification/visualize.ipynb\" target=\"_parent\"><img src=\"https://colab.research.google.com/assets/colab-badge.svg\" alt=\"Open In Colab\"/></a>"
      ]
    },
    {
      "cell_type": "code",
      "execution_count": 1,
      "metadata": {
        "colab": {
          "base_uri": "https://localhost:8080/"
        },
        "id": "fNDjQREWaZsP",
        "outputId": "2d99a123-3a34-44af-e2c0-4b07ef455f75"
      },
      "outputs": [
        {
          "output_type": "stream",
          "name": "stdout",
          "text": [
            "/content/drive/MyDrive/nlp\n"
          ]
        }
      ],
      "source": [
        "%cd drive/MyDrive/nlp"
      ]
    },
    {
      "cell_type": "code",
      "source": [
        "import pandas as pd\n",
        "\n",
        "train_data = pd.read_csv(\"Corona_NLP_train.csv\",encoding='latin-1')\n",
        "train_data.head()"
      ],
      "metadata": {
        "colab": {
          "base_uri": "https://localhost:8080/",
          "height": 206
        },
        "id": "BBoFo6JKarjQ",
        "outputId": "9e0c4452-38a5-4330-b3d1-52793775e9a6"
      },
      "execution_count": 2,
      "outputs": [
        {
          "output_type": "execute_result",
          "data": {
            "text/plain": [
              "   UserName  ScreenName   Location     TweetAt  \\\n",
              "0      3799       48751     London  16-03-2020   \n",
              "1      3800       48752         UK  16-03-2020   \n",
              "2      3801       48753  Vagabonds  16-03-2020   \n",
              "3      3802       48754        NaN  16-03-2020   \n",
              "4      3803       48755        NaN  16-03-2020   \n",
              "\n",
              "                                       OriginalTweet           Sentiment  \n",
              "0  @MeNyrbie @Phil_Gahan @Chrisitv https://t.co/i...             Neutral  \n",
              "1  advice Talk to your neighbours family to excha...            Positive  \n",
              "2  Coronavirus Australia: Woolworths to give elde...            Positive  \n",
              "3  My food stock is not the only one which is emp...            Positive  \n",
              "4  Me, ready to go at supermarket during the #COV...  Extremely Negative  "
            ],
            "text/html": [
              "\n",
              "  <div id=\"df-7c138c55-b45e-45f5-b2c7-c18bf84afb8f\">\n",
              "    <div class=\"colab-df-container\">\n",
              "      <div>\n",
              "<style scoped>\n",
              "    .dataframe tbody tr th:only-of-type {\n",
              "        vertical-align: middle;\n",
              "    }\n",
              "\n",
              "    .dataframe tbody tr th {\n",
              "        vertical-align: top;\n",
              "    }\n",
              "\n",
              "    .dataframe thead th {\n",
              "        text-align: right;\n",
              "    }\n",
              "</style>\n",
              "<table border=\"1\" class=\"dataframe\">\n",
              "  <thead>\n",
              "    <tr style=\"text-align: right;\">\n",
              "      <th></th>\n",
              "      <th>UserName</th>\n",
              "      <th>ScreenName</th>\n",
              "      <th>Location</th>\n",
              "      <th>TweetAt</th>\n",
              "      <th>OriginalTweet</th>\n",
              "      <th>Sentiment</th>\n",
              "    </tr>\n",
              "  </thead>\n",
              "  <tbody>\n",
              "    <tr>\n",
              "      <th>0</th>\n",
              "      <td>3799</td>\n",
              "      <td>48751</td>\n",
              "      <td>London</td>\n",
              "      <td>16-03-2020</td>\n",
              "      <td>@MeNyrbie @Phil_Gahan @Chrisitv https://t.co/i...</td>\n",
              "      <td>Neutral</td>\n",
              "    </tr>\n",
              "    <tr>\n",
              "      <th>1</th>\n",
              "      <td>3800</td>\n",
              "      <td>48752</td>\n",
              "      <td>UK</td>\n",
              "      <td>16-03-2020</td>\n",
              "      <td>advice Talk to your neighbours family to excha...</td>\n",
              "      <td>Positive</td>\n",
              "    </tr>\n",
              "    <tr>\n",
              "      <th>2</th>\n",
              "      <td>3801</td>\n",
              "      <td>48753</td>\n",
              "      <td>Vagabonds</td>\n",
              "      <td>16-03-2020</td>\n",
              "      <td>Coronavirus Australia: Woolworths to give elde...</td>\n",
              "      <td>Positive</td>\n",
              "    </tr>\n",
              "    <tr>\n",
              "      <th>3</th>\n",
              "      <td>3802</td>\n",
              "      <td>48754</td>\n",
              "      <td>NaN</td>\n",
              "      <td>16-03-2020</td>\n",
              "      <td>My food stock is not the only one which is emp...</td>\n",
              "      <td>Positive</td>\n",
              "    </tr>\n",
              "    <tr>\n",
              "      <th>4</th>\n",
              "      <td>3803</td>\n",
              "      <td>48755</td>\n",
              "      <td>NaN</td>\n",
              "      <td>16-03-2020</td>\n",
              "      <td>Me, ready to go at supermarket during the #COV...</td>\n",
              "      <td>Extremely Negative</td>\n",
              "    </tr>\n",
              "  </tbody>\n",
              "</table>\n",
              "</div>\n",
              "      <button class=\"colab-df-convert\" onclick=\"convertToInteractive('df-7c138c55-b45e-45f5-b2c7-c18bf84afb8f')\"\n",
              "              title=\"Convert this dataframe to an interactive table.\"\n",
              "              style=\"display:none;\">\n",
              "        \n",
              "  <svg xmlns=\"http://www.w3.org/2000/svg\" height=\"24px\"viewBox=\"0 0 24 24\"\n",
              "       width=\"24px\">\n",
              "    <path d=\"M0 0h24v24H0V0z\" fill=\"none\"/>\n",
              "    <path d=\"M18.56 5.44l.94 2.06.94-2.06 2.06-.94-2.06-.94-.94-2.06-.94 2.06-2.06.94zm-11 1L8.5 8.5l.94-2.06 2.06-.94-2.06-.94L8.5 2.5l-.94 2.06-2.06.94zm10 10l.94 2.06.94-2.06 2.06-.94-2.06-.94-.94-2.06-.94 2.06-2.06.94z\"/><path d=\"M17.41 7.96l-1.37-1.37c-.4-.4-.92-.59-1.43-.59-.52 0-1.04.2-1.43.59L10.3 9.45l-7.72 7.72c-.78.78-.78 2.05 0 2.83L4 21.41c.39.39.9.59 1.41.59.51 0 1.02-.2 1.41-.59l7.78-7.78 2.81-2.81c.8-.78.8-2.07 0-2.86zM5.41 20L4 18.59l7.72-7.72 1.47 1.35L5.41 20z\"/>\n",
              "  </svg>\n",
              "      </button>\n",
              "      \n",
              "  <style>\n",
              "    .colab-df-container {\n",
              "      display:flex;\n",
              "      flex-wrap:wrap;\n",
              "      gap: 12px;\n",
              "    }\n",
              "\n",
              "    .colab-df-convert {\n",
              "      background-color: #E8F0FE;\n",
              "      border: none;\n",
              "      border-radius: 50%;\n",
              "      cursor: pointer;\n",
              "      display: none;\n",
              "      fill: #1967D2;\n",
              "      height: 32px;\n",
              "      padding: 0 0 0 0;\n",
              "      width: 32px;\n",
              "    }\n",
              "\n",
              "    .colab-df-convert:hover {\n",
              "      background-color: #E2EBFA;\n",
              "      box-shadow: 0px 1px 2px rgba(60, 64, 67, 0.3), 0px 1px 3px 1px rgba(60, 64, 67, 0.15);\n",
              "      fill: #174EA6;\n",
              "    }\n",
              "\n",
              "    [theme=dark] .colab-df-convert {\n",
              "      background-color: #3B4455;\n",
              "      fill: #D2E3FC;\n",
              "    }\n",
              "\n",
              "    [theme=dark] .colab-df-convert:hover {\n",
              "      background-color: #434B5C;\n",
              "      box-shadow: 0px 1px 3px 1px rgba(0, 0, 0, 0.15);\n",
              "      filter: drop-shadow(0px 1px 2px rgba(0, 0, 0, 0.3));\n",
              "      fill: #FFFFFF;\n",
              "    }\n",
              "  </style>\n",
              "\n",
              "      <script>\n",
              "        const buttonEl =\n",
              "          document.querySelector('#df-7c138c55-b45e-45f5-b2c7-c18bf84afb8f button.colab-df-convert');\n",
              "        buttonEl.style.display =\n",
              "          google.colab.kernel.accessAllowed ? 'block' : 'none';\n",
              "\n",
              "        async function convertToInteractive(key) {\n",
              "          const element = document.querySelector('#df-7c138c55-b45e-45f5-b2c7-c18bf84afb8f');\n",
              "          const dataTable =\n",
              "            await google.colab.kernel.invokeFunction('convertToInteractive',\n",
              "                                                     [key], {});\n",
              "          if (!dataTable) return;\n",
              "\n",
              "          const docLinkHtml = 'Like what you see? Visit the ' +\n",
              "            '<a target=\"_blank\" href=https://colab.research.google.com/notebooks/data_table.ipynb>data table notebook</a>'\n",
              "            + ' to learn more about interactive tables.';\n",
              "          element.innerHTML = '';\n",
              "          dataTable['output_type'] = 'display_data';\n",
              "          await google.colab.output.renderOutput(dataTable, element);\n",
              "          const docLink = document.createElement('div');\n",
              "          docLink.innerHTML = docLinkHtml;\n",
              "          element.appendChild(docLink);\n",
              "        }\n",
              "      </script>\n",
              "    </div>\n",
              "  </div>\n",
              "  "
            ]
          },
          "metadata": {},
          "execution_count": 2
        }
      ]
    },
    {
      "cell_type": "code",
      "source": [
        "train_data['Sentiment'].value_counts()"
      ],
      "metadata": {
        "colab": {
          "base_uri": "https://localhost:8080/"
        },
        "id": "syAGZnyzasUK",
        "outputId": "4e3cd0f2-7380-4fb4-f1dc-685d3d36427f"
      },
      "execution_count": 3,
      "outputs": [
        {
          "output_type": "execute_result",
          "data": {
            "text/plain": [
              "Positive              11422\n",
              "Negative               9917\n",
              "Neutral                7713\n",
              "Extremely Positive     6624\n",
              "Extremely Negative     5481\n",
              "Name: Sentiment, dtype: int64"
            ]
          },
          "metadata": {},
          "execution_count": 3
        }
      ]
    },
    {
      "cell_type": "code",
      "source": [
        "train_data['Location'].isnull().sum()"
      ],
      "metadata": {
        "colab": {
          "base_uri": "https://localhost:8080/"
        },
        "id": "r6EBhAVSTb--",
        "outputId": "1084bebd-1f30-404a-cb4d-9e642c3f0def"
      },
      "execution_count": 4,
      "outputs": [
        {
          "output_type": "execute_result",
          "data": {
            "text/plain": [
              "8590"
            ]
          },
          "metadata": {},
          "execution_count": 4
        }
      ]
    },
    {
      "cell_type": "code",
      "source": [
        "# train_data['Location'].value_counts().head(50)"
      ],
      "metadata": {
        "id": "Kk_Z3gwcJEWS"
      },
      "execution_count": 5,
      "outputs": []
    },
    {
      "cell_type": "code",
      "source": [
        "# train_data.dtypes"
      ],
      "metadata": {
        "id": "-6-msqeU7ZZl"
      },
      "execution_count": 6,
      "outputs": []
    },
    {
      "cell_type": "code",
      "source": [
        "train_data['Sentiment_cat'] = train_data['Sentiment'].replace(['Positive'],0).replace(['Negative'],1).replace(['Neutral'],2).replace(['Extremely Positive'],3).replace(['Extremely Negative'],4)"
      ],
      "metadata": {
        "id": "UOpyKC2Vbdz3"
      },
      "execution_count": 7,
      "outputs": []
    },
    {
      "cell_type": "code",
      "source": [
        "import matplotlib.pyplot as plt\n",
        "\n",
        "plt.rcParams[\"figure.figsize\"] = (10,6)\n",
        "ax = train_data.groupby('Sentiment').count().plot(kind='bar', title='Sentiment Distribution', legend=False)\n",
        "ax.set_xticklabels(['Positive','Negative','Neutral','Extremely Positive','Extremely Negative'], rotation=0)"
      ],
      "metadata": {
        "colab": {
          "base_uri": "https://localhost:8080/",
          "height": 491
        },
        "id": "kkJbWVh8b5io",
        "outputId": "4dbab486-ee22-46e6-ed04-88953a46c30e"
      },
      "execution_count": 8,
      "outputs": [
        {
          "output_type": "execute_result",
          "data": {
            "text/plain": [
              "[Text(0, 0, 'Positive'),\n",
              " Text(0, 0, 'Negative'),\n",
              " Text(0, 0, 'Neutral'),\n",
              " Text(0, 0, 'Extremely Positive'),\n",
              " Text(0, 0, 'Extremely Negative')]"
            ]
          },
          "metadata": {},
          "execution_count": 8
        },
        {
          "output_type": "display_data",
          "data": {
            "text/plain": [
              "<Figure size 720x432 with 1 Axes>"
            ],
            "image/png": "[encoded data removed]"
          },
          "metadata": {
            "needs_background": "light"
          }
        }
      ]
    },
    {
      "cell_type": "code",
      "source": [
        "pos = train_data[train_data['Sentiment_cat']== 0]\n",
        "pos = pos.groupby(['TweetAt'], as_index=False).count()\n",
        "\n",
        "neg = train_data[train_data['Sentiment_cat']== 1]\n",
        "neg = neg.groupby(['TweetAt'], as_index=False).count()\n",
        "\n",
        "neu = train_data[train_data['Sentiment_cat']== 2]\n",
        "neu = neu.groupby(['TweetAt'], as_index=False).count()\n",
        "\n",
        "ext_pos = train_data[train_data['Sentiment_cat']== 3]\n",
        "ext_pos = ext_pos.groupby(['TweetAt'], as_index=False).count()\n",
        "\n",
        "ext_neg = train_data[train_data['Sentiment_cat']== 4]\n",
        "ext_neg = ext_neg.groupby(['TweetAt'], as_index=False).count()"
      ],
      "metadata": {
        "id": "kq7aDGxwdnSV"
      },
      "execution_count": 9,
      "outputs": []
    },
    {
      "cell_type": "code",
      "source": [
        "pos = pos[['TweetAt','UserName']]\n",
        "neg = neg[['TweetAt','UserName']]\n",
        "neu = neu[['TweetAt','UserName']]\n",
        "ext_pos = ext_pos[['TweetAt','UserName']]\n",
        "ext_neg = ext_neg[['TweetAt','UserName']]"
      ],
      "metadata": {
        "id": "HVBD_VLwOhkC"
      },
      "execution_count": 10,
      "outputs": []
    },
    {
      "cell_type": "code",
      "source": [
        "import plotly.graph_objs as go\n",
        "\n",
        "fig = go.Figure()\n",
        "for col in pos.columns:\n",
        "    fig.add_trace(go.Scatter(x=pos['TweetAt'], y=pos['UserName'],\n",
        "                             name = col,\n",
        "                             mode = 'markers+lines',\n",
        "                             line=dict(shape='linear'),\n",
        "                             connectgaps=True,\n",
        "                             line_color='green',\n",
        "                             hovertemplate = '<br>Sentiment=\"Positive\"<br>Date=%{x}<br>Users=%{y}<extra></extra>'\n",
        "                             )\n",
        "                 )\n",
        "\n",
        "for col in neg.columns:\n",
        "    fig.add_trace(go.Scatter(x=neg['TweetAt'], y=neg['UserName'],\n",
        "                             name = col,\n",
        "                             mode = 'markers+lines',\n",
        "                             line=dict(shape='linear'),\n",
        "                             connectgaps=True,\n",
        "                             line_color='red',\n",
        "                             hovertemplate = '<br>Sentiment=\"Negative\"<br>Date=%{x}<br>Users=%{y}<extra></extra>'\n",
        "                             )\n",
        "                 )\n",
        "    \n",
        "for col in neu.columns:\n",
        "    fig.add_trace(go.Scatter(x=neu['TweetAt'], y=neu['UserName'],\n",
        "                             name = col,\n",
        "                             mode = 'markers+lines',\n",
        "                             line=dict(shape='linear'),\n",
        "                             connectgaps=True,\n",
        "                             line_color='blue',\n",
        "                             hovertemplate = '<br>Sentiment=\"Neutral\"<br>Date=%{x}<br>Users=%{y}<extra></extra>'\n",
        "                             )\n",
        "                 )\n",
        "    \n",
        "for col in ext_pos.columns:\n",
        "    fig.add_trace(go.Scatter(x=ext_pos['TweetAt'], y=ext_pos['UserName'],\n",
        "                             name = col,\n",
        "                             mode = 'markers+lines',\n",
        "                             line=dict(shape='linear'),\n",
        "                             connectgaps=True,\n",
        "                             line_color='yellow',\n",
        "                             hovertemplate = '<br>Sentiment=\"Extremely Positive\"<br>Date=%{x}<br>Users=%{y}<extra></extra>'\n",
        "                             )\n",
        "                 )\n",
        "for col in ext_neg.columns:\n",
        "    fig.add_trace(go.Scatter(x=ext_neg['TweetAt'], y=ext_neg['UserName'],\n",
        "                             name = col,\n",
        "                             mode = 'markers+lines',\n",
        "                             line=dict(shape='linear'),\n",
        "                             connectgaps=True,\n",
        "                             line_color='orange',\n",
        "                             hovertemplate = '<br>Sentiment=\"Entremely Negative\"<br>Date=%{x}<br>Users=%{y}<extra></extra>'\n",
        "                             )\n",
        "                 )\n",
        "    \n",
        "fig.show()"
      ],
      "metadata": {
        "colab": {
          "base_uri": "https://localhost:8080/",
          "height": 542
        },
        "id": "blb-RZG9PPIH",
        "outputId": "e4219058-ff81-49c2-b4bd-9dd10e89feb7"
      },
      "execution_count": 11,
      "outputs": [
        {
          "output_type": "display_data",
          "data": {
            "text/html": [
              "<html>\n",
              "<head><meta charset=\"utf-8\" /></head>\n",
              "<body>\n",
              "    <div>            <script src=\"https://cdnjs.cloudflare.com/ajax/libs/mathjax/2.7.5/MathJax.js?config=TeX-AMS-MML_SVG\"></script><script type=\"text/javascript\">if (window.MathJax) {MathJax.Hub.Config({SVG: {font: \"STIX-Web\"}});}</script>                <script type=\"text/javascript\">window.PlotlyConfig = {MathJaxConfig: 'local'};</script>\n",
              "        <script src=\"https://cdn.plot.ly/plotly-2.8.3.min.js\"></script>                <div id=\"8ec7115c-bf69-48f0-94ea-d912765fa25a\" class=\"plotly-graph-div\" style=\"height:525px; width:100%;\"></div>            <script type=\"text/javascript\">                                    window.PLOTLYENV=window.PLOTLYENV || {};                                    if (document.getElementById(\"8ec7115c-bf69-48f0-94ea-d912765fa25a\")) {                    Plotly.newPlot(                        \"8ec7115c-bf69-48f0-94ea-d912765fa25a\",                        [{\"connectgaps\":true,\"hovertemplate\":\"<br>Sentiment=\\\"Positive\\\"<br>Date=%{x}<br>Users=%{y}<extra></extra>\",\"line\":{\"color\":\"green\",\"shape\":\"linear\"},\"mode\":\"markers+lines\",\"name\":\"TweetAt\",\"x\":[\"01-04-2020\",\"02-04-2020\",\"03-04-2020\",\"04-04-2020\",\"05-04-2020\",\"06-04-2020\",\"07-04-2020\",\"08-04-2020\",\"09-04-2020\",\"10-04-2020\",\"11-04-2020\",\"12-04-2020\",\"13-04-2020\",\"14-04-2020\",\"16-03-2020\",\"17-03-2020\",\"18-03-2020\",\"19-03-2020\",\"20-03-2020\",\"21-03-2020\",\"22-03-2020\",\"23-03-2020\",\"24-03-2020\",\"25-03-2020\",\"26-03-2020\",\"27-03-2020\",\"28-03-2020\",\"29-03-2020\",\"30-03-2020\",\"31-03-2020\"],\"y\":[170,251,228,232,306,471,521,558,430,287,262,210,408,74,186,508,741,863,910,710,588,615,402,886,343,91,6,42,24,99],\"type\":\"scatter\"},{\"connectgaps\":true,\"hovertemplate\":\"<br>Sentiment=\\\"Positive\\\"<br>Date=%{x}<br>Users=%{y}<extra></extra>\",\"line\":{\"color\":\"green\",\"shape\":\"linear\"},\"mode\":\"markers+lines\",\"name\":\"UserName\",\"x\":[\"01-04-2020\",\"02-04-2020\",\"03-04-2020\",\"04-04-2020\",\"05-04-2020\",\"06-04-2020\",\"07-04-2020\",\"08-04-2020\",\"09-04-2020\",\"10-04-2020\",\"11-04-2020\",\"12-04-2020\",\"13-04-2020\",\"14-04-2020\",\"16-03-2020\",\"17-03-2020\",\"18-03-2020\",\"19-03-2020\",\"20-03-2020\",\"21-03-2020\",\"22-03-2020\",\"23-03-2020\",\"24-03-2020\",\"25-03-2020\",\"26-03-2020\",\"27-03-2020\",\"28-03-2020\",\"29-03-2020\",\"30-03-2020\",\"31-03-2020\"],\"y\":[170,251,228,232,306,471,521,558,430,287,262,210,408,74,186,508,741,863,910,710,588,615,402,886,343,91,6,42,24,99],\"type\":\"scatter\"},{\"connectgaps\":true,\"hovertemplate\":\"<br>Sentiment=\\\"Negative\\\"<br>Date=%{x}<br>Users=%{y}<extra></extra>\",\"line\":{\"color\":\"red\",\"shape\":\"linear\"},\"mode\":\"markers+lines\",\"name\":\"TweetAt\",\"x\":[\"01-04-2020\",\"02-04-2020\",\"03-04-2020\",\"04-04-2020\",\"05-04-2020\",\"06-04-2020\",\"07-04-2020\",\"08-04-2020\",\"09-04-2020\",\"10-04-2020\",\"11-04-2020\",\"12-04-2020\",\"13-04-2020\",\"14-04-2020\",\"16-03-2020\",\"17-03-2020\",\"18-03-2020\",\"19-03-2020\",\"20-03-2020\",\"21-03-2020\",\"22-03-2020\",\"23-03-2020\",\"24-03-2020\",\"25-03-2020\",\"26-03-2020\",\"27-03-2020\",\"28-03-2020\",\"29-03-2020\",\"30-03-2020\",\"31-03-2020\"],\"y\":[156,242,208,163,262,423,434,409,309,197,208,206,330,69,165,518,674,810,869,689,488,479,373,688,316,97,4,22,20,89],\"type\":\"scatter\"},{\"connectgaps\":true,\"hovertemplate\":\"<br>Sentiment=\\\"Negative\\\"<br>Date=%{x}<br>Users=%{y}<extra></extra>\",\"line\":{\"color\":\"red\",\"shape\":\"linear\"},\"mode\":\"markers+lines\",\"name\":\"UserName\",\"x\":[\"01-04-2020\",\"02-04-2020\",\"03-04-2020\",\"04-04-2020\",\"05-04-2020\",\"06-04-2020\",\"07-04-2020\",\"08-04-2020\",\"09-04-2020\",\"10-04-2020\",\"11-04-2020\",\"12-04-2020\",\"13-04-2020\",\"14-04-2020\",\"16-03-2020\",\"17-03-2020\",\"18-03-2020\",\"19-03-2020\",\"20-03-2020\",\"21-03-2020\",\"22-03-2020\",\"23-03-2020\",\"24-03-2020\",\"25-03-2020\",\"26-03-2020\",\"27-03-2020\",\"28-03-2020\",\"29-03-2020\",\"30-03-2020\",\"31-03-2020\"],\"y\":[156,242,208,163,262,423,434,409,309,197,208,206,330,69,165,518,674,810,869,689,488,479,373,688,316,97,4,22,20,89],\"type\":\"scatter\"},{\"connectgaps\":true,\"hovertemplate\":\"<br>Sentiment=\\\"Neutral\\\"<br>Date=%{x}<br>Users=%{y}<extra></extra>\",\"line\":{\"color\":\"blue\",\"shape\":\"linear\"},\"mode\":\"markers+lines\",\"name\":\"TweetAt\",\"x\":[\"01-04-2020\",\"02-04-2020\",\"03-04-2020\",\"04-04-2020\",\"05-04-2020\",\"06-04-2020\",\"07-04-2020\",\"08-04-2020\",\"09-04-2020\",\"10-04-2020\",\"11-04-2020\",\"12-04-2020\",\"13-04-2020\",\"14-04-2020\",\"16-03-2020\",\"17-03-2020\",\"18-03-2020\",\"19-03-2020\",\"20-03-2020\",\"21-03-2020\",\"22-03-2020\",\"23-03-2020\",\"24-03-2020\",\"25-03-2020\",\"26-03-2020\",\"27-03-2020\",\"28-03-2020\",\"29-03-2020\",\"30-03-2020\",\"31-03-2020\"],\"y\":[125,201,154,130,235,360,374,365,285,239,182,146,271,60,108,361,486,571,597,456,381,394,284,524,263,80,1,28,10,42],\"type\":\"scatter\"},{\"connectgaps\":true,\"hovertemplate\":\"<br>Sentiment=\\\"Neutral\\\"<br>Date=%{x}<br>Users=%{y}<extra></extra>\",\"line\":{\"color\":\"blue\",\"shape\":\"linear\"},\"mode\":\"markers+lines\",\"name\":\"UserName\",\"x\":[\"01-04-2020\",\"02-04-2020\",\"03-04-2020\",\"04-04-2020\",\"05-04-2020\",\"06-04-2020\",\"07-04-2020\",\"08-04-2020\",\"09-04-2020\",\"10-04-2020\",\"11-04-2020\",\"12-04-2020\",\"13-04-2020\",\"14-04-2020\",\"16-03-2020\",\"17-03-2020\",\"18-03-2020\",\"19-03-2020\",\"20-03-2020\",\"21-03-2020\",\"22-03-2020\",\"23-03-2020\",\"24-03-2020\",\"25-03-2020\",\"26-03-2020\",\"27-03-2020\",\"28-03-2020\",\"29-03-2020\",\"30-03-2020\",\"31-03-2020\"],\"y\":[125,201,154,130,235,360,374,365,285,239,182,146,271,60,108,361,486,571,597,456,381,394,284,524,263,80,1,28,10,42],\"type\":\"scatter\"},{\"connectgaps\":true,\"hovertemplate\":\"<br>Sentiment=\\\"Extremely Positive\\\"<br>Date=%{x}<br>Users=%{y}<extra></extra>\",\"line\":{\"color\":\"yellow\",\"shape\":\"linear\"},\"mode\":\"markers+lines\",\"name\":\"TweetAt\",\"x\":[\"01-04-2020\",\"02-04-2020\",\"03-04-2020\",\"04-04-2020\",\"05-04-2020\",\"06-04-2020\",\"07-04-2020\",\"08-04-2020\",\"09-04-2020\",\"10-04-2020\",\"11-04-2020\",\"12-04-2020\",\"13-04-2020\",\"14-04-2020\",\"16-03-2020\",\"17-03-2020\",\"18-03-2020\",\"19-03-2020\",\"20-03-2020\",\"21-03-2020\",\"22-03-2020\",\"23-03-2020\",\"24-03-2020\",\"25-03-2020\",\"26-03-2020\",\"27-03-2020\",\"28-03-2020\",\"29-03-2020\",\"30-03-2020\",\"31-03-2020\"],\"y\":[89,141,117,129,208,281,287,335,288,167,164,139,241,44,99,286,408,482,478,426,375,328,213,545,219,39,11,23,14,48],\"type\":\"scatter\"},{\"connectgaps\":true,\"hovertemplate\":\"<br>Sentiment=\\\"Extremely Positive\\\"<br>Date=%{x}<br>Users=%{y}<extra></extra>\",\"line\":{\"color\":\"yellow\",\"shape\":\"linear\"},\"mode\":\"markers+lines\",\"name\":\"UserName\",\"x\":[\"01-04-2020\",\"02-04-2020\",\"03-04-2020\",\"04-04-2020\",\"05-04-2020\",\"06-04-2020\",\"07-04-2020\",\"08-04-2020\",\"09-04-2020\",\"10-04-2020\",\"11-04-2020\",\"12-04-2020\",\"13-04-2020\",\"14-04-2020\",\"16-03-2020\",\"17-03-2020\",\"18-03-2020\",\"19-03-2020\",\"20-03-2020\",\"21-03-2020\",\"22-03-2020\",\"23-03-2020\",\"24-03-2020\",\"25-03-2020\",\"26-03-2020\",\"27-03-2020\",\"28-03-2020\",\"29-03-2020\",\"30-03-2020\",\"31-03-2020\"],\"y\":[89,141,117,129,208,281,287,335,288,167,164,139,241,44,99,286,408,482,478,426,375,328,213,545,219,39,11,23,14,48],\"type\":\"scatter\"},{\"connectgaps\":true,\"hovertemplate\":\"<br>Sentiment=\\\"Entremely Negative\\\"<br>Date=%{x}<br>Users=%{y}<extra></extra>\",\"line\":{\"color\":\"orange\",\"shape\":\"linear\"},\"mode\":\"markers+lines\",\"name\":\"TweetAt\",\"x\":[\"01-04-2020\",\"02-04-2020\",\"03-04-2020\",\"04-04-2020\",\"05-04-2020\",\"06-04-2020\",\"07-04-2020\",\"08-04-2020\",\"09-04-2020\",\"10-04-2020\",\"11-04-2020\",\"12-04-2020\",\"13-04-2020\",\"14-04-2020\",\"16-03-2020\",\"17-03-2020\",\"18-03-2020\",\"19-03-2020\",\"20-03-2020\",\"21-03-2020\",\"22-03-2020\",\"23-03-2020\",\"24-03-2020\",\"25-03-2020\",\"26-03-2020\",\"27-03-2020\",\"28-03-2020\",\"29-03-2020\",\"30-03-2020\",\"31-03-2020\"],\"y\":[90,119,103,113,120,207,227,214,159,115,93,102,178,37,98,304,433,489,594,372,282,246,208,336,136,38,1,10,19,38],\"type\":\"scatter\"},{\"connectgaps\":true,\"hovertemplate\":\"<br>Sentiment=\\\"Entremely Negative\\\"<br>Date=%{x}<br>Users=%{y}<extra></extra>\",\"line\":{\"color\":\"orange\",\"shape\":\"linear\"},\"mode\":\"markers+lines\",\"name\":\"UserName\",\"x\":[\"01-04-2020\",\"02-04-2020\",\"03-04-2020\",\"04-04-2020\",\"05-04-2020\",\"06-04-2020\",\"07-04-2020\",\"08-04-2020\",\"09-04-2020\",\"10-04-2020\",\"11-04-2020\",\"12-04-2020\",\"13-04-2020\",\"14-04-2020\",\"16-03-2020\",\"17-03-2020\",\"18-03-2020\",\"19-03-2020\",\"20-03-2020\",\"21-03-2020\",\"22-03-2020\",\"23-03-2020\",\"24-03-2020\",\"25-03-2020\",\"26-03-2020\",\"27-03-2020\",\"28-03-2020\",\"29-03-2020\",\"30-03-2020\",\"31-03-2020\"],\"y\":[90,119,103,113,120,207,227,214,159,115,93,102,178,37,98,304,433,489,594,372,282,246,208,336,136,38,1,10,19,38],\"type\":\"scatter\"}],                        {\"template\":{\"data\":{\"bar\":[{\"error_x\":{\"color\":\"#2a3f5f\"},\"error_y\":{\"color\":\"#2a3f5f\"},\"marker\":{\"line\":{\"color\":\"#E5ECF6\",\"width\":0.5},\"pattern\":{\"fillmode\":\"overlay\",\"size\":10,\"solidity\":0.2}},\"type\":\"bar\"}],\"barpolar\":[{\"marker\":{\"line\":{\"color\":\"#E5ECF6\",\"width\":0.5},\"pattern\":{\"fillmode\":\"overlay\",\"size\":10,\"solidity\":0.2}},\"type\":\"barpolar\"}],\"carpet\":[{\"aaxis\":{\"endlinecolor\":\"#2a3f5f\",\"gridcolor\":\"white\",\"linecolor\":\"white\",\"minorgridcolor\":\"white\",\"startlinecolor\":\"#2a3f5f\"},\"baxis\":{\"endlinecolor\":\"#2a3f5f\",\"gridcolor\":\"white\",\"linecolor\":\"white\",\"minorgridcolor\":\"white\",\"startlinecolor\":\"#2a3f5f\"},\"type\":\"carpet\"}],\"choropleth\":[{\"colorbar\":{\"outlinewidth\":0,\"ticks\":\"\"},\"type\":\"choropleth\"}],\"contour\":[{\"colorbar\":{\"outlinewidth\":0,\"ticks\":\"\"},\"colorscale\":[[0.0,\"#0d0887\"],[0.1111111111111111,\"#46039f\"],[0.2222222222222222,\"#7201a8\"],[0.3333333333333333,\"#9c179e\"],[0.4444444444444444,\"#bd3786\"],[0.5555555555555556,\"#d8576b\"],[0.6666666666666666,\"#ed7953\"],[0.7777777777777778,\"#fb9f3a\"],[0.8888888888888888,\"#fdca26\"],[1.0,\"#f0f921\"]],\"type\":\"contour\"}],\"contourcarpet\":[{\"colorbar\":{\"outlinewidth\":0,\"ticks\":\"\"},\"type\":\"contourcarpet\"}],\"heatmap\":[{\"colorbar\":{\"outlinewidth\":0,\"ticks\":\"\"},\"colorscale\":[[0.0,\"#0d0887\"],[0.1111111111111111,\"#46039f\"],[0.2222222222222222,\"#7201a8\"],[0.3333333333333333,\"#9c179e\"],[0.4444444444444444,\"#bd3786\"],[0.5555555555555556,\"#d8576b\"],[0.6666666666666666,\"#ed7953\"],[0.7777777777777778,\"#fb9f3a\"],[0.8888888888888888,\"#fdca26\"],[1.0,\"#f0f921\"]],\"type\":\"heatmap\"}],\"heatmapgl\":[{\"colorbar\":{\"outlinewidth\":0,\"ticks\":\"\"},\"colorscale\":[[0.0,\"#0d0887\"],[0.1111111111111111,\"#46039f\"],[0.2222222222222222,\"#7201a8\"],[0.3333333333333333,\"#9c179e\"],[0.4444444444444444,\"#bd3786\"],[0.5555555555555556,\"#d8576b\"],[0.6666666666666666,\"#ed7953\"],[0.7777777777777778,\"#fb9f3a\"],[0.8888888888888888,\"#fdca26\"],[1.0,\"#f0f921\"]],\"type\":\"heatmapgl\"}],\"histogram\":[{\"marker\":{\"pattern\":{\"fillmode\":\"overlay\",\"size\":10,\"solidity\":0.2}},\"type\":\"histogram\"}],\"histogram2d\":[{\"colorbar\":{\"outlinewidth\":0,\"ticks\":\"\"},\"colorscale\":[[0.0,\"#0d0887\"],[0.1111111111111111,\"#46039f\"],[0.2222222222222222,\"#7201a8\"],[0.3333333333333333,\"#9c179e\"],[0.4444444444444444,\"#bd3786\"],[0.5555555555555556,\"#d8576b\"],[0.6666666666666666,\"#ed7953\"],[0.7777777777777778,\"#fb9f3a\"],[0.8888888888888888,\"#fdca26\"],[1.0,\"#f0f921\"]],\"type\":\"histogram2d\"}],\"histogram2dcontour\":[{\"colorbar\":{\"outlinewidth\":0,\"ticks\":\"\"},\"colorscale\":[[0.0,\"#0d0887\"],[0.1111111111111111,\"#46039f\"],[0.2222222222222222,\"#7201a8\"],[0.3333333333333333,\"#9c179e\"],[0.4444444444444444,\"#bd3786\"],[0.5555555555555556,\"#d8576b\"],[0.6666666666666666,\"#ed7953\"],[0.7777777777777778,\"#fb9f3a\"],[0.8888888888888888,\"#fdca26\"],[1.0,\"#f0f921\"]],\"type\":\"histogram2dcontour\"}],\"mesh3d\":[{\"colorbar\":{\"outlinewidth\":0,\"ticks\":\"\"},\"type\":\"mesh3d\"}],\"parcoords\":[{\"line\":{\"colorbar\":{\"outlinewidth\":0,\"ticks\":\"\"}},\"type\":\"parcoords\"}],\"pie\":[{\"automargin\":true,\"type\":\"pie\"}],\"scatter\":[{\"marker\":{\"colorbar\":{\"outlinewidth\":0,\"ticks\":\"\"}},\"type\":\"scatter\"}],\"scatter3d\":[{\"line\":{\"colorbar\":{\"outlinewidth\":0,\"ticks\":\"\"}},\"marker\":{\"colorbar\":{\"outlinewidth\":0,\"ticks\":\"\"}},\"type\":\"scatter3d\"}],\"scattercarpet\":[{\"marker\":{\"colorbar\":{\"outlinewidth\":0,\"ticks\":\"\"}},\"type\":\"scattercarpet\"}],\"scattergeo\":[{\"marker\":{\"colorbar\":{\"outlinewidth\":0,\"ticks\":\"\"}},\"type\":\"scattergeo\"}],\"scattergl\":[{\"marker\":{\"colorbar\":{\"outlinewidth\":0,\"ticks\":\"\"}},\"type\":\"scattergl\"}],\"scattermapbox\":[{\"marker\":{\"colorbar\":{\"outlinewidth\":0,\"ticks\":\"\"}},\"type\":\"scattermapbox\"}],\"scatterpolar\":[{\"marker\":{\"colorbar\":{\"outlinewidth\":0,\"ticks\":\"\"}},\"type\":\"scatterpolar\"}],\"scatterpolargl\":[{\"marker\":{\"colorbar\":{\"outlinewidth\":0,\"ticks\":\"\"}},\"type\":\"scatterpolargl\"}],\"scatterternary\":[{\"marker\":{\"colorbar\":{\"outlinewidth\":0,\"ticks\":\"\"}},\"type\":\"scatterternary\"}],\"surface\":[{\"colorbar\":{\"outlinewidth\":0,\"ticks\":\"\"},\"colorscale\":[[0.0,\"#0d0887\"],[0.1111111111111111,\"#46039f\"],[0.2222222222222222,\"#7201a8\"],[0.3333333333333333,\"#9c179e\"],[0.4444444444444444,\"#bd3786\"],[0.5555555555555556,\"#d8576b\"],[0.6666666666666666,\"#ed7953\"],[0.7777777777777778,\"#fb9f3a\"],[0.8888888888888888,\"#fdca26\"],[1.0,\"#f0f921\"]],\"type\":\"surface\"}],\"table\":[{\"cells\":{\"fill\":{\"color\":\"#EBF0F8\"},\"line\":{\"color\":\"white\"}},\"header\":{\"fill\":{\"color\":\"#C8D4E3\"},\"line\":{\"color\":\"white\"}},\"type\":\"table\"}]},\"layout\":{\"annotationdefaults\":{\"arrowcolor\":\"#2a3f5f\",\"arrowhead\":0,\"arrowwidth\":1},\"autotypenumbers\":\"strict\",\"coloraxis\":{\"colorbar\":{\"outlinewidth\":0,\"ticks\":\"\"}},\"colorscale\":{\"diverging\":[[0,\"#8e0152\"],[0.1,\"#c51b7d\"],[0.2,\"#de77ae\"],[0.3,\"#f1b6da\"],[0.4,\"#fde0ef\"],[0.5,\"#f7f7f7\"],[0.6,\"#e6f5d0\"],[0.7,\"#b8e186\"],[0.8,\"#7fbc41\"],[0.9,\"#4d9221\"],[1,\"#276419\"]],\"sequential\":[[0.0,\"#0d0887\"],[0.1111111111111111,\"#46039f\"],[0.2222222222222222,\"#7201a8\"],[0.3333333333333333,\"#9c179e\"],[0.4444444444444444,\"#bd3786\"],[0.5555555555555556,\"#d8576b\"],[0.6666666666666666,\"#ed7953\"],[0.7777777777777778,\"#fb9f3a\"],[0.8888888888888888,\"#fdca26\"],[1.0,\"#f0f921\"]],\"sequentialminus\":[[0.0,\"#0d0887\"],[0.1111111111111111,\"#46039f\"],[0.2222222222222222,\"#7201a8\"],[0.3333333333333333,\"#9c179e\"],[0.4444444444444444,\"#bd3786\"],[0.5555555555555556,\"#d8576b\"],[0.6666666666666666,\"#ed7953\"],[0.7777777777777778,\"#fb9f3a\"],[0.8888888888888888,\"#fdca26\"],[1.0,\"#f0f921\"]]},\"colorway\":[\"#636efa\",\"#EF553B\",\"#00cc96\",\"#ab63fa\",\"#FFA15A\",\"#19d3f3\",\"#FF6692\",\"#B6E880\",\"#FF97FF\",\"#FECB52\"],\"font\":{\"color\":\"#2a3f5f\"},\"geo\":{\"bgcolor\":\"white\",\"lakecolor\":\"white\",\"landcolor\":\"#E5ECF6\",\"showlakes\":true,\"showland\":true,\"subunitcolor\":\"white\"},\"hoverlabel\":{\"align\":\"left\"},\"hovermode\":\"closest\",\"mapbox\":{\"style\":\"light\"},\"paper_bgcolor\":\"white\",\"plot_bgcolor\":\"#E5ECF6\",\"polar\":{\"angularaxis\":{\"gridcolor\":\"white\",\"linecolor\":\"white\",\"ticks\":\"\"},\"bgcolor\":\"#E5ECF6\",\"radialaxis\":{\"gridcolor\":\"white\",\"linecolor\":\"white\",\"ticks\":\"\"}},\"scene\":{\"xaxis\":{\"backgroundcolor\":\"#E5ECF6\",\"gridcolor\":\"white\",\"gridwidth\":2,\"linecolor\":\"white\",\"showbackground\":true,\"ticks\":\"\",\"zerolinecolor\":\"white\"},\"yaxis\":{\"backgroundcolor\":\"#E5ECF6\",\"gridcolor\":\"white\",\"gridwidth\":2,\"linecolor\":\"white\",\"showbackground\":true,\"ticks\":\"\",\"zerolinecolor\":\"white\"},\"zaxis\":{\"backgroundcolor\":\"#E5ECF6\",\"gridcolor\":\"white\",\"gridwidth\":2,\"linecolor\":\"white\",\"showbackground\":true,\"ticks\":\"\",\"zerolinecolor\":\"white\"}},\"shapedefaults\":{\"line\":{\"color\":\"#2a3f5f\"}},\"ternary\":{\"aaxis\":{\"gridcolor\":\"white\",\"linecolor\":\"white\",\"ticks\":\"\"},\"baxis\":{\"gridcolor\":\"white\",\"linecolor\":\"white\",\"ticks\":\"\"},\"bgcolor\":\"#E5ECF6\",\"caxis\":{\"gridcolor\":\"white\",\"linecolor\":\"white\",\"ticks\":\"\"}},\"title\":{\"x\":0.05},\"xaxis\":{\"automargin\":true,\"gridcolor\":\"white\",\"linecolor\":\"white\",\"ticks\":\"\",\"title\":{\"standoff\":15},\"zerolinecolor\":\"white\",\"zerolinewidth\":2},\"yaxis\":{\"automargin\":true,\"gridcolor\":\"white\",\"linecolor\":\"white\",\"ticks\":\"\",\"title\":{\"standoff\":15},\"zerolinecolor\":\"white\",\"zerolinewidth\":2}}}},                        {\"responsive\": true}                    ).then(function(){\n",
              "                            \n",
              "var gd = document.getElementById('8ec7115c-bf69-48f0-94ea-d912765fa25a');\n",
              "var x = new MutationObserver(function (mutations, observer) {{\n",
              "        var display = window.getComputedStyle(gd).display;\n",
              "        if (!display || display === 'none') {{\n",
              "            console.log([gd, 'removed!']);\n",
              "            Plotly.purge(gd);\n",
              "            observer.disconnect();\n",
              "        }}\n",
              "}});\n",
              "\n",
              "// Listen for the removal of the full notebook cells\n",
              "var notebookContainer = gd.closest('#notebook-container');\n",
              "if (notebookContainer) {{\n",
              "    x.observe(notebookContainer, {childList: true});\n",
              "}}\n",
              "\n",
              "// Listen for the clearing of the current output cell\n",
              "var outputEl = gd.closest('.output');\n",
              "if (outputEl) {{\n",
              "    x.observe(outputEl, {childList: true});\n",
              "}}\n",
              "\n",
              "                        })                };                            </script>        </div>\n",
              "</body>\n",
              "</html>"
            ]
          },
          "metadata": {}
        }
      ]
    },
    {
      "cell_type": "code",
      "source": [
        "# from wordcloud import WordCloud\n",
        "\n",
        "# wordcloud = WordCloud(max_font_size=50, max_words=500, background_color=\"white\").generate(str(pos['tweet_clean']))\n",
        "# plt.figure()\n",
        "# plt.imshow(wordcloud, interpolation=\"bilinear\")\n",
        "# plt.axis(\"off\")\n",
        "# plt.show()"
      ],
      "metadata": {
        "id": "iQ5NjUtLQVLx"
      },
      "execution_count": 12,
      "outputs": []
    },
    {
      "cell_type": "code",
      "source": [
        "# import spacy\n",
        "# nlp = spacy.load(\"en_core_web_sm\")\n"
      ],
      "metadata": {
        "id": "AZsfbPbyWrmy"
      },
      "execution_count": 13,
      "outputs": []
    },
    {
      "cell_type": "code",
      "source": [
        "# ! python -m spacy download xx_ent_wiki_sm"
      ],
      "metadata": {
        "id": "-GJbv9KHXdLC"
      },
      "execution_count": 14,
      "outputs": []
    },
    {
      "cell_type": "code",
      "source": [
        "# import nltk\n",
        "\n",
        "# # nlp_wk = spacy.load(\"xx_ent_wiki_sm\")\n",
        "# nltk.downloader.download('maxent_ne_chunker')\n",
        "# nltk.downloader.download('words')\n",
        "# nltk.downloader.download('treebank')\n",
        "# nltk.downloader.download('maxent_treebank_pos_tagger')\n",
        "# nltk.downloader.download('punkt')\n",
        "# nltk.download('averaged_perceptron_tagger')"
      ],
      "metadata": {
        "id": "sAA8fuBDW1gu"
      },
      "execution_count": 15,
      "outputs": []
    },
    {
      "cell_type": "code",
      "source": [
        "# train_data['Location'] = train_data['Location'].astype(str).str.lower()"
      ],
      "metadata": {
        "id": "P2fnAQJP71NX"
      },
      "execution_count": 16,
      "outputs": []
    },
    {
      "cell_type": "code",
      "source": [
        "# ! pip install locationtagger"
      ],
      "metadata": {
        "id": "umKbXNgbOM8D"
      },
      "execution_count": 17,
      "outputs": []
    },
    {
      "cell_type": "code",
      "source": [
        "# import locationtagger\n",
        "\n",
        "# def extract_location(tokenized_column):\n",
        "\n",
        "#   # for word in tokenized_column:\n",
        "#   #   i = nlp_wk(word)\n",
        "#   #   print(i)\n",
        "#     # if i.label_ is [\"LOC\"]:\n",
        "#     #   print(i)\n",
        "#   # return [ent.text for word in tokenized_column for ent in nlp_wk(word).ents if ent.label_ in [\"LOC\"]] \n",
        "#   return [locationtagger.find_locations(text = word).regions for word in tokenized_column] "
      ],
      "metadata": {
        "id": "5i_3-1GtXmEY"
      },
      "execution_count": 18,
      "outputs": []
    },
    {
      "cell_type": "code",
      "source": [
        "# train_data['loc'] = train_data.apply(lambda x: extract_location(x['Location']), axis=1)\n",
        "# train_data['loc']"
      ],
      "metadata": {
        "id": "74V2yAiv6z9V"
      },
      "execution_count": 19,
      "outputs": []
    },
    {
      "cell_type": "code",
      "source": [
        "ind_loc = train_data[train_data['Location']== \"India\"]\n",
        "ind_loc = ind_loc.groupby(['Sentiment'], as_index=False).count()   \n",
        "\n",
        "us_loc = train_data[train_data['Location']== \"United States\"]\n",
        "us_loc = us_loc.groupby(['Sentiment'], as_index=False).count()\n",
        "\n",
        "uk_loc = train_data[train_data['Location']== \"United Kingdom\"]\n",
        "uk_loc = uk_loc.groupby(['Sentiment'], as_index=False).count()\n",
        "\n",
        "ca_loc = train_data[train_data['Location']== \"Canada\"]\n",
        "ca_loc = ca_loc.groupby(['Sentiment'], as_index=False).count()"
      ],
      "metadata": {
        "id": "bMz1j1HdUqCW"
      },
      "execution_count": 20,
      "outputs": []
    },
    {
      "cell_type": "code",
      "source": [
        "ind_loc = ind_loc[['Sentiment','UserName']]\n",
        "us_loc = us_loc[['Sentiment','UserName']]\n",
        "uk_loc = uk_loc[['Sentiment','UserName']]\n",
        "\n",
        "ca_loc = ca_loc[['Sentiment','UserName']]"
      ],
      "metadata": {
        "id": "SmCtwmvgISn4"
      },
      "execution_count": 21,
      "outputs": []
    },
    {
      "cell_type": "code",
      "source": [
        "import plotly.graph_objs as go\n",
        "\n",
        "fig = go.Figure()\n",
        "for col in ind_loc.columns:\n",
        "    fig.add_trace(go.Scatter(x=ind_loc['Sentiment'], y=ind_loc['UserName'],\n",
        "                             name = col,\n",
        "                             mode = 'markers+lines',\n",
        "                             line=dict(shape='linear'),\n",
        "                             connectgaps=True,\n",
        "                             line_color='green',\n",
        "                             hovertemplate = '<br>Country=\"India\"<br>Sentiment=%{x}<br>Users=%{y}<extra></extra>'\n",
        "                             )\n",
        "                 )\n",
        "\n",
        "for col in us_loc.columns:\n",
        "    fig.add_trace(go.Scatter(x=us_loc['Sentiment'], y=us_loc['UserName'],\n",
        "                             name = col,\n",
        "                             mode = 'markers+lines',\n",
        "                             line=dict(shape='linear'),\n",
        "                             connectgaps=True,\n",
        "                             line_color='red',\n",
        "                             hovertemplate = '<br>Country=\"United States\"<br>Sentiment=%{x}<br>Users=%{y}<extra></extra>'\n",
        "                             )\n",
        "                 )\n",
        "    \n",
        "for col in uk_loc.columns:\n",
        "    fig.add_trace(go.Scatter(x=uk_loc['Sentiment'], y=uk_loc['UserName'],\n",
        "                             name = col,\n",
        "                             mode = 'markers+lines',\n",
        "                             line=dict(shape='linear'),\n",
        "                             connectgaps=True,\n",
        "                             line_color='blue',\n",
        "                             hovertemplate = '<br>Country=\"United Kingdom\"<br>Sentiment=%{x}<br>Users=%{y}<extra></extra>'\n",
        "                             )\n",
        "                 )\n",
        "    \n",
        "for col in ca_loc.columns:\n",
        "    fig.add_trace(go.Scatter(x=ca_loc['Sentiment'], y=ca_loc['UserName'],\n",
        "                             name = col,\n",
        "                             mode = 'markers+lines',\n",
        "                             line=dict(shape='linear'),\n",
        "                             connectgaps=True,\n",
        "                             line_color='yellow',\n",
        "                             hovertemplate = '<br>Country=\"Canada\"<br>Sentiment=%{x}<br>Users=%{y}<extra></extra>'\n",
        "                             )\n",
        "                 )\n",
        "    \n",
        "fig.show()"
      ],
      "metadata": {
        "id": "ygrcnu84GRaV",
        "colab": {
          "base_uri": "https://localhost:8080/",
          "height": 542
        },
        "outputId": "c3601b35-8511-411c-e039-f0b732b7ac4b"
      },
      "execution_count": 22,
      "outputs": [
        {
          "output_type": "display_data",
          "data": {
            "text/html": [
              "<html>\n",
              "<head><meta charset=\"utf-8\" /></head>\n",
              "<body>\n",
              "    <div>            <script src=\"https://cdnjs.cloudflare.com/ajax/libs/mathjax/2.7.5/MathJax.js?config=TeX-AMS-MML_SVG\"></script><script type=\"text/javascript\">if (window.MathJax) {MathJax.Hub.Config({SVG: {font: \"STIX-Web\"}});}</script>                <script type=\"text/javascript\">window.PlotlyConfig = {MathJaxConfig: 'local'};</script>\n",
              "        <script src=\"https://cdn.plot.ly/plotly-2.8.3.min.js\"></script>                <div id=\"a17036ef-550f-4f37-b9e5-aa5c29a8add9\" class=\"plotly-graph-div\" style=\"height:525px; width:100%;\"></div>            <script type=\"text/javascript\">                                    window.PLOTLYENV=window.PLOTLYENV || {};                                    if (document.getElementById(\"a17036ef-550f-4f37-b9e5-aa5c29a8add9\")) {                    Plotly.newPlot(                        \"a17036ef-550f-4f37-b9e5-aa5c29a8add9\",                        [{\"connectgaps\":true,\"hovertemplate\":\"<br>Country=\\\"India\\\"<br>Sentiment=%{x}<br>Users=%{y}<extra></extra>\",\"line\":{\"color\":\"green\",\"shape\":\"linear\"},\"mode\":\"markers+lines\",\"name\":\"Sentiment\",\"x\":[\"Extremely Negative\",\"Extremely Positive\",\"Negative\",\"Neutral\",\"Positive\"],\"y\":[25,49,75,52,67],\"type\":\"scatter\"},{\"connectgaps\":true,\"hovertemplate\":\"<br>Country=\\\"India\\\"<br>Sentiment=%{x}<br>Users=%{y}<extra></extra>\",\"line\":{\"color\":\"green\",\"shape\":\"linear\"},\"mode\":\"markers+lines\",\"name\":\"UserName\",\"x\":[\"Extremely Negative\",\"Extremely Positive\",\"Negative\",\"Neutral\",\"Positive\"],\"y\":[25,49,75,52,67],\"type\":\"scatter\"},{\"connectgaps\":true,\"hovertemplate\":\"<br>Country=\\\"United States\\\"<br>Sentiment=%{x}<br>Users=%{y}<extra></extra>\",\"line\":{\"color\":\"red\",\"shape\":\"linear\"},\"mode\":\"markers+lines\",\"name\":\"Sentiment\",\"x\":[\"Extremely Negative\",\"Extremely Positive\",\"Negative\",\"Neutral\",\"Positive\"],\"y\":[64,91,107,112,154],\"type\":\"scatter\"},{\"connectgaps\":true,\"hovertemplate\":\"<br>Country=\\\"United States\\\"<br>Sentiment=%{x}<br>Users=%{y}<extra></extra>\",\"line\":{\"color\":\"red\",\"shape\":\"linear\"},\"mode\":\"markers+lines\",\"name\":\"UserName\",\"x\":[\"Extremely Negative\",\"Extremely Positive\",\"Negative\",\"Neutral\",\"Positive\"],\"y\":[64,91,107,112,154],\"type\":\"scatter\"},{\"connectgaps\":true,\"hovertemplate\":\"<br>Country=\\\"United Kingdom\\\"<br>Sentiment=%{x}<br>Users=%{y}<extra></extra>\",\"line\":{\"color\":\"blue\",\"shape\":\"linear\"},\"mode\":\"markers+lines\",\"name\":\"Sentiment\",\"x\":[\"Extremely Negative\",\"Extremely Positive\",\"Negative\",\"Neutral\",\"Positive\"],\"y\":[47,52,86,51,101],\"type\":\"scatter\"},{\"connectgaps\":true,\"hovertemplate\":\"<br>Country=\\\"United Kingdom\\\"<br>Sentiment=%{x}<br>Users=%{y}<extra></extra>\",\"line\":{\"color\":\"blue\",\"shape\":\"linear\"},\"mode\":\"markers+lines\",\"name\":\"UserName\",\"x\":[\"Extremely Negative\",\"Extremely Positive\",\"Negative\",\"Neutral\",\"Positive\"],\"y\":[47,52,86,51,101],\"type\":\"scatter\"},{\"connectgaps\":true,\"hovertemplate\":\"<br>Country=\\\"Canada\\\"<br>Sentiment=%{x}<br>Users=%{y}<extra></extra>\",\"line\":{\"color\":\"yellow\",\"shape\":\"linear\"},\"mode\":\"markers+lines\",\"name\":\"Sentiment\",\"x\":[\"Extremely Negative\",\"Extremely Positive\",\"Negative\",\"Neutral\",\"Positive\"],\"y\":[22,23,46,49,51],\"type\":\"scatter\"},{\"connectgaps\":true,\"hovertemplate\":\"<br>Country=\\\"Canada\\\"<br>Sentiment=%{x}<br>Users=%{y}<extra></extra>\",\"line\":{\"color\":\"yellow\",\"shape\":\"linear\"},\"mode\":\"markers+lines\",\"name\":\"UserName\",\"x\":[\"Extremely Negative\",\"Extremely Positive\",\"Negative\",\"Neutral\",\"Positive\"],\"y\":[22,23,46,49,51],\"type\":\"scatter\"}],                        {\"template\":{\"data\":{\"bar\":[{\"error_x\":{\"color\":\"#2a3f5f\"},\"error_y\":{\"color\":\"#2a3f5f\"},\"marker\":{\"line\":{\"color\":\"#E5ECF6\",\"width\":0.5},\"pattern\":{\"fillmode\":\"overlay\",\"size\":10,\"solidity\":0.2}},\"type\":\"bar\"}],\"barpolar\":[{\"marker\":{\"line\":{\"color\":\"#E5ECF6\",\"width\":0.5},\"pattern\":{\"fillmode\":\"overlay\",\"size\":10,\"solidity\":0.2}},\"type\":\"barpolar\"}],\"carpet\":[{\"aaxis\":{\"endlinecolor\":\"#2a3f5f\",\"gridcolor\":\"white\",\"linecolor\":\"white\",\"minorgridcolor\":\"white\",\"startlinecolor\":\"#2a3f5f\"},\"baxis\":{\"endlinecolor\":\"#2a3f5f\",\"gridcolor\":\"white\",\"linecolor\":\"white\",\"minorgridcolor\":\"white\",\"startlinecolor\":\"#2a3f5f\"},\"type\":\"carpet\"}],\"choropleth\":[{\"colorbar\":{\"outlinewidth\":0,\"ticks\":\"\"},\"type\":\"choropleth\"}],\"contour\":[{\"colorbar\":{\"outlinewidth\":0,\"ticks\":\"\"},\"colorscale\":[[0.0,\"#0d0887\"],[0.1111111111111111,\"#46039f\"],[0.2222222222222222,\"#7201a8\"],[0.3333333333333333,\"#9c179e\"],[0.4444444444444444,\"#bd3786\"],[0.5555555555555556,\"#d8576b\"],[0.6666666666666666,\"#ed7953\"],[0.7777777777777778,\"#fb9f3a\"],[0.8888888888888888,\"#fdca26\"],[1.0,\"#f0f921\"]],\"type\":\"contour\"}],\"contourcarpet\":[{\"colorbar\":{\"outlinewidth\":0,\"ticks\":\"\"},\"type\":\"contourcarpet\"}],\"heatmap\":[{\"colorbar\":{\"outlinewidth\":0,\"ticks\":\"\"},\"colorscale\":[[0.0,\"#0d0887\"],[0.1111111111111111,\"#46039f\"],[0.2222222222222222,\"#7201a8\"],[0.3333333333333333,\"#9c179e\"],[0.4444444444444444,\"#bd3786\"],[0.5555555555555556,\"#d8576b\"],[0.6666666666666666,\"#ed7953\"],[0.7777777777777778,\"#fb9f3a\"],[0.8888888888888888,\"#fdca26\"],[1.0,\"#f0f921\"]],\"type\":\"heatmap\"}],\"heatmapgl\":[{\"colorbar\":{\"outlinewidth\":0,\"ticks\":\"\"},\"colorscale\":[[0.0,\"#0d0887\"],[0.1111111111111111,\"#46039f\"],[0.2222222222222222,\"#7201a8\"],[0.3333333333333333,\"#9c179e\"],[0.4444444444444444,\"#bd3786\"],[0.5555555555555556,\"#d8576b\"],[0.6666666666666666,\"#ed7953\"],[0.7777777777777778,\"#fb9f3a\"],[0.8888888888888888,\"#fdca26\"],[1.0,\"#f0f921\"]],\"type\":\"heatmapgl\"}],\"histogram\":[{\"marker\":{\"pattern\":{\"fillmode\":\"overlay\",\"size\":10,\"solidity\":0.2}},\"type\":\"histogram\"}],\"histogram2d\":[{\"colorbar\":{\"outlinewidth\":0,\"ticks\":\"\"},\"colorscale\":[[0.0,\"#0d0887\"],[0.1111111111111111,\"#46039f\"],[0.2222222222222222,\"#7201a8\"],[0.3333333333333333,\"#9c179e\"],[0.4444444444444444,\"#bd3786\"],[0.5555555555555556,\"#d8576b\"],[0.6666666666666666,\"#ed7953\"],[0.7777777777777778,\"#fb9f3a\"],[0.8888888888888888,\"#fdca26\"],[1.0,\"#f0f921\"]],\"type\":\"histogram2d\"}],\"histogram2dcontour\":[{\"colorbar\":{\"outlinewidth\":0,\"ticks\":\"\"},\"colorscale\":[[0.0,\"#0d0887\"],[0.1111111111111111,\"#46039f\"],[0.2222222222222222,\"#7201a8\"],[0.3333333333333333,\"#9c179e\"],[0.4444444444444444,\"#bd3786\"],[0.5555555555555556,\"#d8576b\"],[0.6666666666666666,\"#ed7953\"],[0.7777777777777778,\"#fb9f3a\"],[0.8888888888888888,\"#fdca26\"],[1.0,\"#f0f921\"]],\"type\":\"histogram2dcontour\"}],\"mesh3d\":[{\"colorbar\":{\"outlinewidth\":0,\"ticks\":\"\"},\"type\":\"mesh3d\"}],\"parcoords\":[{\"line\":{\"colorbar\":{\"outlinewidth\":0,\"ticks\":\"\"}},\"type\":\"parcoords\"}],\"pie\":[{\"automargin\":true,\"type\":\"pie\"}],\"scatter\":[{\"marker\":{\"colorbar\":{\"outlinewidth\":0,\"ticks\":\"\"}},\"type\":\"scatter\"}],\"scatter3d\":[{\"line\":{\"colorbar\":{\"outlinewidth\":0,\"ticks\":\"\"}},\"marker\":{\"colorbar\":{\"outlinewidth\":0,\"ticks\":\"\"}},\"type\":\"scatter3d\"}],\"scattercarpet\":[{\"marker\":{\"colorbar\":{\"outlinewidth\":0,\"ticks\":\"\"}},\"type\":\"scattercarpet\"}],\"scattergeo\":[{\"marker\":{\"colorbar\":{\"outlinewidth\":0,\"ticks\":\"\"}},\"type\":\"scattergeo\"}],\"scattergl\":[{\"marker\":{\"colorbar\":{\"outlinewidth\":0,\"ticks\":\"\"}},\"type\":\"scattergl\"}],\"scattermapbox\":[{\"marker\":{\"colorbar\":{\"outlinewidth\":0,\"ticks\":\"\"}},\"type\":\"scattermapbox\"}],\"scatterpolar\":[{\"marker\":{\"colorbar\":{\"outlinewidth\":0,\"ticks\":\"\"}},\"type\":\"scatterpolar\"}],\"scatterpolargl\":[{\"marker\":{\"colorbar\":{\"outlinewidth\":0,\"ticks\":\"\"}},\"type\":\"scatterpolargl\"}],\"scatterternary\":[{\"marker\":{\"colorbar\":{\"outlinewidth\":0,\"ticks\":\"\"}},\"type\":\"scatterternary\"}],\"surface\":[{\"colorbar\":{\"outlinewidth\":0,\"ticks\":\"\"},\"colorscale\":[[0.0,\"#0d0887\"],[0.1111111111111111,\"#46039f\"],[0.2222222222222222,\"#7201a8\"],[0.3333333333333333,\"#9c179e\"],[0.4444444444444444,\"#bd3786\"],[0.5555555555555556,\"#d8576b\"],[0.6666666666666666,\"#ed7953\"],[0.7777777777777778,\"#fb9f3a\"],[0.8888888888888888,\"#fdca26\"],[1.0,\"#f0f921\"]],\"type\":\"surface\"}],\"table\":[{\"cells\":{\"fill\":{\"color\":\"#EBF0F8\"},\"line\":{\"color\":\"white\"}},\"header\":{\"fill\":{\"color\":\"#C8D4E3\"},\"line\":{\"color\":\"white\"}},\"type\":\"table\"}]},\"layout\":{\"annotationdefaults\":{\"arrowcolor\":\"#2a3f5f\",\"arrowhead\":0,\"arrowwidth\":1},\"autotypenumbers\":\"strict\",\"coloraxis\":{\"colorbar\":{\"outlinewidth\":0,\"ticks\":\"\"}},\"colorscale\":{\"diverging\":[[0,\"#8e0152\"],[0.1,\"#c51b7d\"],[0.2,\"#de77ae\"],[0.3,\"#f1b6da\"],[0.4,\"#fde0ef\"],[0.5,\"#f7f7f7\"],[0.6,\"#e6f5d0\"],[0.7,\"#b8e186\"],[0.8,\"#7fbc41\"],[0.9,\"#4d9221\"],[1,\"#276419\"]],\"sequential\":[[0.0,\"#0d0887\"],[0.1111111111111111,\"#46039f\"],[0.2222222222222222,\"#7201a8\"],[0.3333333333333333,\"#9c179e\"],[0.4444444444444444,\"#bd3786\"],[0.5555555555555556,\"#d8576b\"],[0.6666666666666666,\"#ed7953\"],[0.7777777777777778,\"#fb9f3a\"],[0.8888888888888888,\"#fdca26\"],[1.0,\"#f0f921\"]],\"sequentialminus\":[[0.0,\"#0d0887\"],[0.1111111111111111,\"#46039f\"],[0.2222222222222222,\"#7201a8\"],[0.3333333333333333,\"#9c179e\"],[0.4444444444444444,\"#bd3786\"],[0.5555555555555556,\"#d8576b\"],[0.6666666666666666,\"#ed7953\"],[0.7777777777777778,\"#fb9f3a\"],[0.8888888888888888,\"#fdca26\"],[1.0,\"#f0f921\"]]},\"colorway\":[\"#636efa\",\"#EF553B\",\"#00cc96\",\"#ab63fa\",\"#FFA15A\",\"#19d3f3\",\"#FF6692\",\"#B6E880\",\"#FF97FF\",\"#FECB52\"],\"font\":{\"color\":\"#2a3f5f\"},\"geo\":{\"bgcolor\":\"white\",\"lakecolor\":\"white\",\"landcolor\":\"#E5ECF6\",\"showlakes\":true,\"showland\":true,\"subunitcolor\":\"white\"},\"hoverlabel\":{\"align\":\"left\"},\"hovermode\":\"closest\",\"mapbox\":{\"style\":\"light\"},\"paper_bgcolor\":\"white\",\"plot_bgcolor\":\"#E5ECF6\",\"polar\":{\"angularaxis\":{\"gridcolor\":\"white\",\"linecolor\":\"white\",\"ticks\":\"\"},\"bgcolor\":\"#E5ECF6\",\"radialaxis\":{\"gridcolor\":\"white\",\"linecolor\":\"white\",\"ticks\":\"\"}},\"scene\":{\"xaxis\":{\"backgroundcolor\":\"#E5ECF6\",\"gridcolor\":\"white\",\"gridwidth\":2,\"linecolor\":\"white\",\"showbackground\":true,\"ticks\":\"\",\"zerolinecolor\":\"white\"},\"yaxis\":{\"backgroundcolor\":\"#E5ECF6\",\"gridcolor\":\"white\",\"gridwidth\":2,\"linecolor\":\"white\",\"showbackground\":true,\"ticks\":\"\",\"zerolinecolor\":\"white\"},\"zaxis\":{\"backgroundcolor\":\"#E5ECF6\",\"gridcolor\":\"white\",\"gridwidth\":2,\"linecolor\":\"white\",\"showbackground\":true,\"ticks\":\"\",\"zerolinecolor\":\"white\"}},\"shapedefaults\":{\"line\":{\"color\":\"#2a3f5f\"}},\"ternary\":{\"aaxis\":{\"gridcolor\":\"white\",\"linecolor\":\"white\",\"ticks\":\"\"},\"baxis\":{\"gridcolor\":\"white\",\"linecolor\":\"white\",\"ticks\":\"\"},\"bgcolor\":\"#E5ECF6\",\"caxis\":{\"gridcolor\":\"white\",\"linecolor\":\"white\",\"ticks\":\"\"}},\"title\":{\"x\":0.05},\"xaxis\":{\"automargin\":true,\"gridcolor\":\"white\",\"linecolor\":\"white\",\"ticks\":\"\",\"title\":{\"standoff\":15},\"zerolinecolor\":\"white\",\"zerolinewidth\":2},\"yaxis\":{\"automargin\":true,\"gridcolor\":\"white\",\"linecolor\":\"white\",\"ticks\":\"\",\"title\":{\"standoff\":15},\"zerolinecolor\":\"white\",\"zerolinewidth\":2}}}},                        {\"responsive\": true}                    ).then(function(){\n",
              "                            \n",
              "var gd = document.getElementById('a17036ef-550f-4f37-b9e5-aa5c29a8add9');\n",
              "var x = new MutationObserver(function (mutations, observer) {{\n",
              "        var display = window.getComputedStyle(gd).display;\n",
              "        if (!display || display === 'none') {{\n",
              "            console.log([gd, 'removed!']);\n",
              "            Plotly.purge(gd);\n",
              "            observer.disconnect();\n",
              "        }}\n",
              "}});\n",
              "\n",
              "// Listen for the removal of the full notebook cells\n",
              "var notebookContainer = gd.closest('#notebook-container');\n",
              "if (notebookContainer) {{\n",
              "    x.observe(notebookContainer, {childList: true});\n",
              "}}\n",
              "\n",
              "// Listen for the clearing of the current output cell\n",
              "var outputEl = gd.closest('.output');\n",
              "if (outputEl) {{\n",
              "    x.observe(outputEl, {childList: true});\n",
              "}}\n",
              "\n",
              "                        })                };                            </script>        </div>\n",
              "</body>\n",
              "</html>"
            ]
          },
          "metadata": {}
        }
      ]
    }
  ]
}